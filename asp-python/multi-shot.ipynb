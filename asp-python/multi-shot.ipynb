{
 "cells": [
  {
   "cell_type": "markdown",
   "metadata": {},
   "source": [
    "# Multi-shot ASP solving with clingo in Python\n",
    "\n",
    "This is an example to show how you can do multi-shot Answer Set Programming with [clingo](https://potassco.org/clingo/) in Python."
   ]
  },
  {
   "cell_type": "code",
   "execution_count": 1,
   "metadata": {},
   "outputs": [],
   "source": [
    "import clingo\n",
    "from clingo.symbol import parse_term, Number"
   ]
  },
  {
   "cell_type": "markdown",
   "metadata": {},
   "source": [
    "## Multi-shot ASP solving\n",
    "\n",
    "[*Multi-shot ASP solving*](https://arxiv.org/pdf/1705.09811.pdf) refers to the process of calling the ASP solver (e.g., clingo) on an answer set program, getting an answer (an answer set, or the conclusion that there are no answer sets), and then changing some parts of the program and having the solver continue its search—not from scratch, but continuing where it had stopped (e.g., keeping the learned nogoods), and so not repeating the same search as it had done the first time.\n",
    "\n",
    "\n",
    "## Example using the wolf, goat & cabbage problem\n",
    "\n",
    "To illustrate how this works, let's solve the [wolf, goat & cabbage problem](https://en.wikipedia.org/wiki/Wolf,_goat_and_cabbage_problem) using multi-shot ASP solving.\n",
    "\n",
    "The task is to find the minimum number of moves to get the cabbage, the goat and the wolf safely to the other side, without anyone or anything getting eaten. If we don't know any bounds on this minimum number of moves, what we can do is first try it with 0 moves, if that doesn't work try it with 1 move, if that doesn't work try it with 2 moves, and so on, until we find the first number of moves for which there is a solution.\n",
    "\n",
    "We could do this by calling clingo from scratch for each number `t` of moves. The disadvantage is that clingo will then do a lot of extra work. For example, all the intermediate information (which combinations of atoms lead to a conflict, etc) that clingo learned in the solving process for `t` would then be thrown away, and for `t+1` clingo would have to do all this work again.\n",
    "\n",
    "So instead, let's use multi-shot solving, where we add new rules and facts to the program when `t` increases, allowing clingo to keep the intermediate information that it found in the previous steps.\n",
    "\n",
    "To do this, we split our ASP program into two parts:\n",
    "- `asp_code_base`, that is independent of the time steps, and only refers to time step `t=1`;\n",
    "- `asp_code_step`, that we will use for each subsequent value of `t`.\n",
    "\n",
    "In our case, the 'base' part of the program is as follows. We add the facts and rules of our program that are either independent of the time steps, or refer to time step 1."
   ]
  },
  {
   "cell_type": "code",
   "execution_count": 2,
   "metadata": {},
   "outputs": [],
   "source": [
    "asp_code_base = \"\"\"\n",
    "    % There are two sides of the river\n",
    "    side(left;right).\n",
    "    otherside(left,right).\n",
    "    otherside(right,left).\n",
    "\n",
    "    % There are three 'items'\n",
    "    item(wolf;goat;cabbage).\n",
    "\n",
    "    % These are the possible actions that we can take\n",
    "    action(transfer(I)) :- item(I).\n",
    "    action(empty_transfer).\n",
    "    \n",
    "    % Declare the first time step\n",
    "    time(1).\n",
    "    \n",
    "    % Declare what is the case at time step 1\n",
    "    at(1,I,left) :- item(I).\n",
    "    at(1,boat,left).\n",
    "\"\"\""
   ]
  },
  {
   "cell_type": "markdown",
   "metadata": {},
   "source": [
    "The 'step' part of the program is as follows. We add the facts and rules of our program that work for time step `t>1`, assuming that we have already added everything for previous time steps `t' < t`."
   ]
  },
  {
   "cell_type": "code",
   "execution_count": 3,
   "metadata": {},
   "outputs": [],
   "source": [
    "asp_code_step = \"\"\"\n",
    "    % Add the time step t\n",
    "    time(t).\n",
    "\n",
    "    % Now that t is the latest time step, we want to perform an action at time t-1\n",
    "    1 { do(A,t-1) : action(A) } 1 :- time(t-1).\n",
    "    \n",
    "    % Require that the action at t-1 should be possible\n",
    "    :- do(transfer(I),t-1), side(S), at(t-1,boat,S), not at(t-1,I,S).\n",
    "    \n",
    "    % Define where the items are at time t\n",
    "    at(t,I,S) :- item(I), at(t-1,I,S), not do(transfer(I),t-1).\n",
    "    at(t,I,S2) :- item(I), at(t-1,I,S1), do(transfer(I),t-1), otherside(S1,S2).\n",
    "    \n",
    "    % Define where the boat is at time t\n",
    "    at(t,boat,left) :- t \\\\ 2 = 1.\n",
    "    at(t,boat,right) :- t \\\\ 2 = 0.\n",
    "    \n",
    "    % Make sure nothing gets eaten at time t\n",
    "    :- time(t), at(t,boat,S1), otherside(S1,S2), at(t,wolf,S2), at(t,goat,S2).\n",
    "    :- time(t), at(t,boat,S1), otherside(S1,S2), at(t,cabbage,S2), at(t,goat,S2).\n",
    "\n",
    "    % Define under what conditions we reached the goal at time t\n",
    "    goal_reached(t) :- at(t,boat,right), at(t,I,right) : item(I).\n",
    "    \n",
    "    % We will use an external atom is_latest_time_step(t) to require that we reach the goal at time t\n",
    "    % (an external atom so that we can 'turn off' this requirement in the future)\n",
    "    #external is_latest_time_step(t).\n",
    "\n",
    "    % Test whether the goal is reached\n",
    "    % (only when is_latest_time_step(t) is true)\n",
    "    :- is_latest_time_step(t), not goal_reached(t).\n",
    "\"\"\""
   ]
  },
  {
   "cell_type": "markdown",
   "metadata": {},
   "source": [
    "What we have added to the 'step' part of the program so far does not yet require that we actually reach the goal at time step `t`. In order to do this, we will add a so-called *external* atom, let's call it `is_latest_time_step(t)`. This is an atom whose truth value we can later switch using the clingo API, so that we can turn it on when we want to require that the goal is reached at time step `t`, and turn it off when we move to `t+1` and onwards and want to let go of the requirement that we reach the goal at time step `t`."
   ]
  },
  {
   "cell_type": "markdown",
   "metadata": {},
   "source": [
    "Let's print any solutions in a human-readable format, using the following function."
   ]
  },
  {
   "cell_type": "code",
   "execution_count": 4,
   "metadata": {},
   "outputs": [],
   "source": [
    "def pretty_print(answer_set):\n",
    "    \n",
    "    # Use a dictionary to store the plan\n",
    "    plan = dict()\n",
    "    \n",
    "    # Find all atoms with do/2 in the answer set\n",
    "    # and store the corresponding action in the plan\n",
    "    for atom in answer_set.symbols(atoms=True):\n",
    "        if atom.name == \"do\":\n",
    "            t = atom.arguments[1].number\n",
    "            action = str(atom.arguments[0])\n",
    "            plan[t] = action\n",
    "    \n",
    "    #\n",
    "    time_steps = list(plan)\n",
    "    time_steps.sort()\n",
    "    for time in time_steps:\n",
    "        print(f\" {time}: {plan[time]}\")"
   ]
  },
  {
   "cell_type": "markdown",
   "metadata": {},
   "source": [
    "Finally, let's get to how we should call clingo in Python to make it all work."
   ]
  },
  {
   "cell_type": "code",
   "execution_count": 5,
   "metadata": {},
   "outputs": [
    {
     "name": "stdout",
     "output_type": "stream",
     "text": [
      "Grounding the base program..\n",
      "Grounding the step program for t=2..\n",
      "Grounding the step program for t=3..\n",
      "\n",
      "Trying for t=4\n",
      "No solution yet..\n",
      "\n",
      "Trying for t=5\n",
      "No solution yet..\n",
      "\n",
      "Trying for t=6\n",
      "No solution yet..\n",
      "\n",
      "Trying for t=7\n",
      "No solution yet..\n",
      "\n",
      "Trying for t=8\n",
      "Found a solution!\n",
      " 1: transfer(goat)\n",
      " 2: empty_transfer\n",
      " 3: transfer(wolf)\n",
      " 4: transfer(goat)\n",
      " 5: transfer(cabbage)\n",
      " 6: empty_transfer\n",
      " 7: transfer(goat)\n"
     ]
    }
   ],
   "source": [
    "# Pick a starting point and an upper bound for t\n",
    "starting_step = 4\n",
    "max_step = 25 # pro tip: use math.inf for no upper bound\n",
    "\n",
    "# Set up clingo\n",
    "control = clingo.Control()\n",
    "control.configuration.solve.models = 1 # number of solutions to find\n",
    "\n",
    "# Add the various parts of the program\n",
    "# and indicate that the argument for step is called \"t\"\n",
    "control.add(\"base\", [], asp_code_base)\n",
    "control.add(\"step\", [\"t\"], asp_code_step)\n",
    "\n",
    "# Ground the base part of the program\n",
    "parts = []\n",
    "parts.append((\"base\",[]))\n",
    "control.ground(parts)\n",
    "print(\"Grounding the base program..\")\n",
    "\n",
    "# Ground the step part of the program, for all t < starting step\n",
    "for step in range(2, starting_step):\n",
    "    parts = []\n",
    "    parts.append((\"step\", [Number(step)]))\n",
    "    control.ground(parts)\n",
    "    print(f\"Grounding the step program for t={step}..\")\n",
    "\n",
    "# Solving loop: starting with t=starting_step and going up by 1 each time\n",
    "step = starting_step\n",
    "found_solution = False\n",
    "\n",
    "print()\n",
    "\n",
    "while step <= max_step:\n",
    "    print(f\"Trying for t={step}\")\n",
    "    \n",
    "    # Add the step part of the program for the new value of t\n",
    "    parts = []\n",
    "    parts.append((\"step\", [Number(step)]))\n",
    "    control.ground(parts)\n",
    "    \n",
    "    # Set the external atom \"is_latest_time_step(t)\" to undefined for t=step,\n",
    "    # so that we can trigger it using assumptions\n",
    "    control.assign_external(parse_term(f\"is_latest_time_step({step})\"), None)\n",
    "    # then add the true literal \"is_latest_time_step(t)\" to the assumptions to use\n",
    "    assumptions = [\n",
    "        (parse_term(f\"is_latest_time_step({step})\"), True),\n",
    "    ]\n",
    "\n",
    "    # Call clingo\n",
    "    with control.solve(\n",
    "        yield_=True,\n",
    "        assumptions=assumptions,\n",
    "    ) as handle:\n",
    "        \n",
    "        # Print any solutions that we may have found\n",
    "        for answer_set in handle:\n",
    "            found_solution = True\n",
    "            print(\"Found a solution!\")\n",
    "            pretty_print(answer_set)\n",
    "\n",
    "        # If we found a solution, call it a day!\n",
    "        if found_solution:\n",
    "            break\n",
    "\n",
    "        # Else go to the next value of t and keep going..\n",
    "        print(\"No solution yet..\\n\")\n",
    "        step += 1"
   ]
  },
  {
   "cell_type": "code",
   "execution_count": null,
   "metadata": {},
   "outputs": [],
   "source": []
  }
 ],
 "metadata": {
  "kernelspec": {
   "display_name": "Python 3 (ipykernel)",
   "language": "python",
   "name": "python3"
  },
  "language_info": {
   "codemirror_mode": {
    "name": "ipython",
    "version": 3
   },
   "file_extension": ".py",
   "mimetype": "text/x-python",
   "name": "python",
   "nbconvert_exporter": "python",
   "pygments_lexer": "ipython3",
   "version": "3.12.1"
  }
 },
 "nbformat": 4,
 "nbformat_minor": 4
}
