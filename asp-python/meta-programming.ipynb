{
 "cells": [
  {
   "cell_type": "markdown",
   "metadata": {},
   "source": [
    "# Meta programming for ASP with clingo in Python\n",
    "\n",
    "This is an example to show how you can do meta programming for ASP with [clingo](https://potassco.org/clingo/) in Python.\n",
    "\n",
    "\n",
    "## Meta programming\n",
    "\n",
    "*Meta programming* refers to the method of (1) translating the rules of a program (the *object program*) to a representation as facts (this process is called *reification*), which then (2) can be used as input for another program (the *meta program*).\n",
    "\n",
    "Let's illustrate this with an example. In this example, we will write a meta program in ASP whose answer sets correspond to the answer sets of the original program where an even number of (shown) atoms is true.\n",
    "\n",
    "## Setting up\n",
    "\n",
    "Let's import clingo and corresponding reification tools."
   ]
  },
  {
   "cell_type": "code",
   "execution_count": 1,
   "metadata": {},
   "outputs": [],
   "source": [
    "import clingo\n",
    "from clingox.reify import reify_program"
   ]
  },
  {
   "cell_type": "markdown",
   "metadata": {},
   "source": [
    "## An example object program\n",
    "\n",
    "Let's take a simple object program, that we will feed into the reification to be used with the meta program (that we will construct below).\n",
    "\n",
    "The following program has 6 answer sets, when projected to the atoms `a`, `b`, `c`, `d` and `e`."
   ]
  },
  {
   "cell_type": "code",
   "execution_count": 2,
   "metadata": {},
   "outputs": [],
   "source": [
    "object_program = \"\"\"\n",
    "    { c; d }.\n",
    "    a :- b.\n",
    "    b :- #sum { 1,c:c; 1,d:d } >= 2.\n",
    "    e ; f :- d.\n",
    "    \n",
    "    #show a/0.\n",
    "    #show b/0.\n",
    "    #show c/0.\n",
    "    #show d/0.\n",
    "    #show e/0.\n",
    "\"\"\""
   ]
  },
  {
   "cell_type": "markdown",
   "metadata": {},
   "source": [
    "For the sake of completeness, let's inspect the (projected) answer sets of this program."
   ]
  },
  {
   "cell_type": "code",
   "execution_count": 3,
   "metadata": {},
   "outputs": [
    {
     "name": "stdout",
     "output_type": "stream",
     "text": [
      "Answer set: { a, b, c, d, e }\n",
      "Answer set: { d, e }\n",
      "Answer set: { a, b, c, d }\n",
      "Answer set: { c }\n",
      "Answer set: {  }\n",
      "Answer set: { d }\n"
     ]
    }
   ],
   "source": [
    "control = clingo.Control([\n",
    "    '--project',\n",
    "])\n",
    "control.add(\"base\", [], object_program)\n",
    "control.ground([(\"base\", [])])\n",
    "\n",
    "control.configuration.solve.models = 0\n",
    "\n",
    "with control.solve(yield_=True) as handle:\n",
    "    for answer_set in handle:\n",
    "        atoms = list(answer_set.symbols(shown=True))\n",
    "        as_list = [\n",
    "            str(atom) for atom in atoms\n",
    "        ]\n",
    "        as_list.sort()\n",
    "        as_str = \", \".join(as_list)\n",
    "        print(f\"Answer set: {{ {as_str} }}\")"
   ]
  },
  {
   "cell_type": "markdown",
   "metadata": {},
   "source": [
    "## Reification\n",
    "\n",
    "Let's now *reify* the object program, yielding a reified program where\n",
    "all rules are represented as facts.\n",
    "\n",
    "Note that reification first triggers a translation of the program to a normal form, where each head is either a disjunctive head or a choice head, and each body is either a normal body or a sum body. Normal heads are special cases of disjunctive heads (with a disjunction of exactly one atom)."
   ]
  },
  {
   "cell_type": "code",
   "execution_count": 4,
   "metadata": {},
   "outputs": [
    {
     "name": "stdout",
     "output_type": "stream",
     "text": [
      "tag(incremental).\n",
      "atom_tuple(0).\n",
      "atom_tuple(0,1).\n",
      "atom_tuple(0,2).\n",
      "literal_tuple(0).\n",
      "rule(choice(0),normal(0)).\n",
      "atom_tuple(1).\n",
      "atom_tuple(1,3).\n",
      "atom_tuple(1,4).\n",
      "literal_tuple(1).\n",
      "literal_tuple(1,2).\n",
      "rule(disjunction(1),normal(1)).\n",
      "atom_tuple(2).\n",
      "atom_tuple(2,5).\n",
      "weighted_literal_tuple(0).\n",
      "weighted_literal_tuple(0,1,1).\n",
      "weighted_literal_tuple(0,2,1).\n",
      "rule(disjunction(2),sum(0,2)).\n",
      "atom_tuple(3).\n",
      "atom_tuple(3,6).\n",
      "literal_tuple(2).\n",
      "literal_tuple(2,5).\n",
      "rule(disjunction(3),normal(2)).\n",
      "atom_tuple(4).\n",
      "atom_tuple(4,7).\n",
      "literal_tuple(3).\n",
      "literal_tuple(3,6).\n",
      "rule(disjunction(4),normal(3)).\n",
      "literal_tuple(4).\n",
      "literal_tuple(4,7).\n",
      "output(a,4).\n",
      "output(b,3).\n",
      "literal_tuple(5).\n",
      "literal_tuple(5,1).\n",
      "output(c,5).\n",
      "output(d,1).\n",
      "literal_tuple(6).\n",
      "literal_tuple(6,3).\n",
      "output(e,6).\n",
      "\n"
     ]
    }
   ],
   "source": [
    "reified_symbols = reify_program(\n",
    "    object_program,\n",
    "    calculate_sccs=False,\n",
    ")\n",
    "reified_program = \"\".join([\n",
    "    f\"{symbol}.\\n\"\n",
    "    for symbol in reified_symbols\n",
    "])\n",
    "\n",
    "print(reified_program)"
   ]
  },
  {
   "cell_type": "markdown",
   "metadata": {},
   "source": [
    "### The reification format\n",
    "\n",
    "The reified representation of the rules of a program as facts works as follows:\n",
    "- Atoms are represented using positive integers (`1`, `2`, etc).\n",
    "- Literals are represented using (positive or negative) integers: positive integers represent positive literals, and negative integers represent negative literals.\n",
    "- Rules are represented using facts of the form `rule(H,B)`, where `H` indicates the head of the rule and `B` indicates the body of the rule.\n",
    "- A disjunctive head is represented using the term `disjunction(T)`, where `T` is the index of an 'atom tuple' containing all the atoms in the head.\n",
    "- A choice head is represented using the term `choice(T)`, where `T` is the index of an 'atom tuple' containing all the atoms in the head.\n",
    "- A normal body is represented using the term `normal(T)`, where `T` is the index of a 'literal tuple' containing all the literals in the body.\n",
    "- A sum body is represented using the term `sum(T,K)`, where `T` is the index of a 'weighted literal tuple' containing all the weighted literals in the body, and where `K` is the minimal value that the sum should evaluate to to make the sum body true.\n",
    "\n",
    "- 'Atom tuples' are declared using the fact `atom_tuple(T)`, where `T` is the index of the atom tuple. The elements of the tuple are declared using facts `atom_tuple(T,A)`, indicating that the atom `A` is part of atom tuple `T`.\n",
    "- 'Literal tuples' are declared using the fact `literal_tuple(T)`, where `T` is the index of the literal tuple. The elements of the tuple are declared using facts `literal_tuple(T,L)`, indicating that the literal `L` is part of literal tuple `T`.\n",
    "- 'Weighted literal tuples' are declared using the fact `weighted_literal_tuple(T)`, where `T` is the index of the weighted literal tuple. The elements of the tuple are declared using facts `weighted_literal_tuple(T,L,V)`, indicating that the literal `L` with value `V` is part of weighted literal tuple `T`.\n",
    "\n",
    "- Facts of the form `output(name,A)` indicate that the atom `A` is to be shown in the (projected) answer set using name `name`."
   ]
  },
  {
   "cell_type": "markdown",
   "metadata": {},
   "source": [
    "## The meta program\n",
    "\n",
    "Let's now write our meta program, whose answer sets correspond to the answer sets of the object program, with the restriction that only an even number of (shown) atoms is true."
   ]
  },
  {
   "cell_type": "code",
   "execution_count": 5,
   "metadata": {},
   "outputs": [],
   "source": [
    "meta_program = \"\"\"\n",
    "    % Express when a literal tuple B is true, using conjunction/1\n",
    "    conjunction(B) :- literal_tuple(B),\n",
    "            hold(L) : literal_tuple(B, L), L > 0;\n",
    "        not hold(L) : literal_tuple(B,-L), L > 0.\n",
    "\n",
    "    % Express when a body is true, using body/1\n",
    "    body(normal(B)) :- rule(_,normal(B)), conjunction(B).\n",
    "    body(sum(B,G))  :- rule(_,sum(B,G)),\n",
    "        #sum { W,L :     hold(L), weighted_literal_tuple(B, L,W), L > 0 ;\n",
    "               W,L : not hold(L), weighted_literal_tuple(B,-L,W), L > 0 } >= G.\n",
    "\n",
    "    % Express the effect of rules, if the body is true\n",
    "      hold(A) : atom_tuple(H,A)   :- rule(disjunction(H),B), body(B).\n",
    "    { hold(A) : atom_tuple(H,A) } :- rule(     choice(H),B), body(B).\n",
    "\n",
    "    % Count the number of true (shown) atoms, and require this to be even\n",
    "    num_shown_true_atoms(N) :-\n",
    "        N = #count { B : output(T,B), conjunction(B) }.\n",
    "    :- num_shown_true_atoms(N), N \\\\ 2 == 1.\n",
    "\n",
    "    % Show only the (shown) atoms of the object program\n",
    "    #show.\n",
    "    #show model(T) : output(T,B), conjunction(B).\n",
    "\"\"\""
   ]
  },
  {
   "cell_type": "markdown",
   "metadata": {},
   "source": [
    "## Combining the meta program and the reified program\n",
    "Now that we have a reified version of the object program, and a meta program, we can simply call clingo on the union of these.\n",
    "\n",
    "The resulting answer sets then correspond to the answer sets of the object program that make an even number of (shown) atoms true.\n",
    "\n",
    "Let's try it out!"
   ]
  },
  {
   "cell_type": "code",
   "execution_count": 6,
   "metadata": {},
   "outputs": [
    {
     "name": "stdout",
     "output_type": "stream",
     "text": [
      "Answer set: { a, b, c, d }\n",
      "Answer set: {  }\n",
      "Answer set: { d, e }\n"
     ]
    }
   ],
   "source": [
    "# Load and ground reified program, together with meta programs\n",
    "control = clingo.Control([\n",
    "    '--project',\n",
    "    '--warn=none',\n",
    "])\n",
    "control.add(\"base\", [], reified_program)\n",
    "control.add(\"base\", [], meta_program)\n",
    "control.ground([(\"base\", [])])\n",
    "\n",
    "control.configuration.solve.models = 0\n",
    "\n",
    "with control.solve(yield_=True) as handle:\n",
    "    for answer_set in handle:\n",
    "        atoms = list(answer_set.symbols(shown=True))\n",
    "        as_list = [\n",
    "            str(atom.arguments[0]) for atom in atoms\n",
    "            if atom.name == \"model\"\n",
    "        ]\n",
    "        as_list.sort()\n",
    "        as_str = \", \".join(as_list)\n",
    "        print(f\"Answer set: {{ {as_str} }}\")"
   ]
  },
  {
   "cell_type": "markdown",
   "metadata": {},
   "source": [
    "## Different meta program\n",
    "\n",
    "Let's do it again, but now with a different meta program, to illustrate another case where we can use meta programming.\n",
    "\n",
    "This meta program expresses that the complement of an answer set must also be an answer set\n",
    "(when taking complements only w.r.t. the shown atoms).\n",
    "\n",
    "To do this, the meta program expresses the generation of two answer sets, and then uses constraints to rule out all cases where the two answer sets are not each other's complements."
   ]
  },
  {
   "cell_type": "code",
   "execution_count": 7,
   "metadata": {},
   "outputs": [
    {
     "name": "stdout",
     "output_type": "stream",
     "text": [
      "Answer set: {  }\n",
      "Answer set: { a, b, c, d, e }\n"
     ]
    }
   ],
   "source": [
    "meta_program = \"\"\"\n",
    "    % Guess two answer sets simultaneously (call them variants)\n",
    "    variant(1;2).\n",
    "\n",
    "    % Express when a literal tuple B is true, using conjunction/1\n",
    "    conjunction(B,V) :- literal_tuple(B), variant(V),\n",
    "            hold(L,V) : literal_tuple(B, L), L > 0;\n",
    "        not hold(L,V) : literal_tuple(B,-L), L > 0.\n",
    "\n",
    "    % Express when a body is true, using body/1\n",
    "    body(normal(B),V) :- rule(_,normal(B)), conjunction(B,V), variant(V).\n",
    "    body(sum(B,G),V)  :- rule(_,sum(B,G)), variant(V),\n",
    "        #sum { W,L :     hold(L,V), weighted_literal_tuple(B, L,W), L > 0 ;\n",
    "               W,L : not hold(L,V), weighted_literal_tuple(B,-L,W), L > 0 } >= G.\n",
    "\n",
    "    % Express the effect of rules, if the body is true\n",
    "      hold(A,V) : atom_tuple(H,A)   :- rule(disjunction(H),B), body(B,V), variant(V).\n",
    "    { hold(A,V) : atom_tuple(H,A) } :- rule(     choice(H),B), body(B,V), variant(V).\n",
    "\n",
    "    % Ensure that the two variants are each others complements,\n",
    "    % on shown atoms\n",
    "    :- output(T,B), conjunction(B,1), conjunction(B,2).\n",
    "    :- output(T,B), not conjunction(B,1), not conjunction(B,2).\n",
    "\n",
    "    % Show only the (shown) atoms of the object program\n",
    "    % for variant 1\n",
    "    #show.\n",
    "    #show model(T) : output(T,B), conjunction(B,1).\n",
    "\"\"\"\n",
    "\n",
    "# Load and ground reified program, together with meta programs\n",
    "control = clingo.Control([\n",
    "    '--project',\n",
    "    '--warn=none',\n",
    "])\n",
    "control.add(\"base\", [], reified_program)\n",
    "control.add(\"base\", [], meta_program)\n",
    "control.ground([(\"base\", [])])\n",
    "\n",
    "control.configuration.solve.models = 0\n",
    "\n",
    "with control.solve(yield_=True) as handle:\n",
    "    for answer_set in handle:\n",
    "        atoms = list(answer_set.symbols(shown=True))\n",
    "        as_list = [\n",
    "            str(atom.arguments[0]) for atom in atoms\n",
    "            if atom.name == \"model\"\n",
    "        ]\n",
    "        as_list.sort()\n",
    "        as_str = \", \".join(as_list)\n",
    "        print(f\"Answer set: {{ {as_str} }}\")"
   ]
  }
 ],
 "metadata": {
  "kernelspec": {
   "display_name": "Python 3 (ipykernel)",
   "language": "python",
   "name": "python3"
  },
  "language_info": {
   "codemirror_mode": {
    "name": "ipython",
    "version": 3
   },
   "file_extension": ".py",
   "mimetype": "text/x-python",
   "name": "python",
   "nbconvert_exporter": "python",
   "pygments_lexer": "ipython3",
   "version": "3.12.1"
  }
 },
 "nbformat": 4,
 "nbformat_minor": 4
}
